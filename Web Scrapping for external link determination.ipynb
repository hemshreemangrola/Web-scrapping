{
 "cells": [
  {
   "cell_type": "code",
   "execution_count": 2,
   "metadata": {
    "collapsed": true
   },
   "outputs": [],
   "source": [
    "import urllib3 \n",
    "from urllib.request import urlopen \n",
    "from urllib.parse import urlparse\n",
    "import re\n",
    "import random\n",
    "import datetime\n",
    "from bs4 import BeautifulSoup\n",
    "import warnings\n",
    "warnings.filterwarnings('ignore')\n",
    "import pandas as pd"
   ]
  },
  {
   "cell_type": "code",
   "execution_count": 3,
   "metadata": {
    "collapsed": true
   },
   "outputs": [],
   "source": [
    "page = ()\n",
    "random.seed(datetime.datetime.now())"
   ]
  },
  {
   "cell_type": "code",
   "execution_count": 4,
   "metadata": {
    "collapsed": true
   },
   "outputs": [],
   "source": [
    "ink = \"https://www.kaggle.com\""
   ]
  },
  {
   "cell_type": "code",
   "execution_count": 5,
   "metadata": {
    "collapsed": true
   },
   "outputs": [],
   "source": [
    "def getExternalLink(bsObj, excludeUrl):\n",
    "    externalLink = []\n",
    "    for link in bsObj.findAll(\"a\", href=re.compile(\"^(http|www)((?!\"+excludeUrl+\").)*$\")):\n",
    "        if link.attrs['href'] is not None:\n",
    "            if link.attrs['href'] not in externalLink:\n",
    "                externalLink.append(link.attrs['href'])\n",
    "    return externalLink\n",
    "            "
   ]
  },
  {
   "cell_type": "code",
   "execution_count": 6,
   "metadata": {},
   "outputs": [
    {
     "name": "stdout",
     "output_type": "stream",
     "text": [
      "https://www.kaggle.com/host 2017-09-25 14:35:43.183849\n",
      "http://blog.kaggle.com/ 2017-09-25 14:35:43.387165\n",
      "https://inclass.kaggle.com 2017-09-25 14:35:43.605207\n"
     ]
    }
   ],
   "source": [
    "extLink = set()\n",
    "html = urlopen(ink)\n",
    "domain = urlparse(ink).scheme+\"://\"+urlparse(ink).netloc\n",
    "bsObj = BeautifulSoup(html)\n",
    "externalLink = getExternalLink(bsObj, domain)\n",
    "csvFile = []\n",
    "for link in externalLink:\n",
    "    if link not in extLink:\n",
    "        extLink.add(link)\n",
    "        http = urllib3.PoolManager()\n",
    "        response = http.request('GET',ink)\n",
    "        if (response.status == 200):\n",
    "            ourFile = (link, \"Valid\", datetime.datetime.now())\n",
    "            print(link, datetime.datetime.now())\n",
    "            csvFile.append(ourFile)\n",
    "        "
   ]
  },
  {
   "cell_type": "code",
   "execution_count": 7,
   "metadata": {
    "collapsed": true
   },
   "outputs": [],
   "source": [
    "df = pd.DataFrame(csvFile, columns=['links', 'Valid or not','Time'])"
   ]
  },
  {
   "cell_type": "code",
   "execution_count": 8,
   "metadata": {},
   "outputs": [
    {
     "data": {
      "text/html": [
       "<div>\n",
       "<style>\n",
       "    .dataframe thead tr:only-child th {\n",
       "        text-align: right;\n",
       "    }\n",
       "\n",
       "    .dataframe thead th {\n",
       "        text-align: left;\n",
       "    }\n",
       "\n",
       "    .dataframe tbody tr th {\n",
       "        vertical-align: top;\n",
       "    }\n",
       "</style>\n",
       "<table border=\"1\" class=\"dataframe\">\n",
       "  <thead>\n",
       "    <tr style=\"text-align: right;\">\n",
       "      <th></th>\n",
       "      <th>links</th>\n",
       "      <th>Valid or not</th>\n",
       "      <th>Time</th>\n",
       "    </tr>\n",
       "  </thead>\n",
       "  <tbody>\n",
       "    <tr>\n",
       "      <th>0</th>\n",
       "      <td>https://www.kaggle.com/host</td>\n",
       "      <td>Valid</td>\n",
       "      <td>2017-09-25 14:35:43.183849</td>\n",
       "    </tr>\n",
       "    <tr>\n",
       "      <th>1</th>\n",
       "      <td>http://blog.kaggle.com/</td>\n",
       "      <td>Valid</td>\n",
       "      <td>2017-09-25 14:35:43.387165</td>\n",
       "    </tr>\n",
       "    <tr>\n",
       "      <th>2</th>\n",
       "      <td>https://inclass.kaggle.com</td>\n",
       "      <td>Valid</td>\n",
       "      <td>2017-09-25 14:35:43.605207</td>\n",
       "    </tr>\n",
       "  </tbody>\n",
       "</table>\n",
       "</div>"
      ],
      "text/plain": [
       "                         links Valid or not                       Time\n",
       "0  https://www.kaggle.com/host        Valid 2017-09-25 14:35:43.183849\n",
       "1      http://blog.kaggle.com/        Valid 2017-09-25 14:35:43.387165\n",
       "2   https://inclass.kaggle.com        Valid 2017-09-25 14:35:43.605207"
      ]
     },
     "execution_count": 8,
     "metadata": {},
     "output_type": "execute_result"
    }
   ],
   "source": [
    "df.head()"
   ]
  },
  {
   "cell_type": "code",
   "execution_count": 9,
   "metadata": {
    "collapsed": true
   },
   "outputs": [],
   "source": [
    "df.to_csv('links.csv', index=False, encoding='utf-8')"
   ]
  },
  {
   "cell_type": "code",
   "execution_count": null,
   "metadata": {
    "collapsed": true
   },
   "outputs": [],
   "source": [
    "#Reference: Web Scarpping using python"
   ]
  }
 ],
 "metadata": {
  "kernelspec": {
   "display_name": "Python 3",
   "language": "python",
   "name": "python3"
  },
  "language_info": {
   "codemirror_mode": {
    "name": "ipython",
    "version": 3
   },
   "file_extension": ".py",
   "mimetype": "text/x-python",
   "name": "python",
   "nbconvert_exporter": "python",
   "pygments_lexer": "ipython3",
   "version": "3.6.1"
  }
 },
 "nbformat": 4,
 "nbformat_minor": 2
}
